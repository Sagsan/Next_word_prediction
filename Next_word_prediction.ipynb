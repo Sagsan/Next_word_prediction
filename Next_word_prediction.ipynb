{
 "cells": [
  {
   "cell_type": "code",
   "execution_count": 1,
   "id": "7ec06a0d",
   "metadata": {},
   "outputs": [],
   "source": [
    "import numpy as np \n",
    "from nltk.tokenize import RegexpTokenizer\n",
    "from keras.models import Sequential, load_model \n",
    "from keras.layers import LSTM \n",
    "from keras.layers import Dense, Activation\n",
    "from tensorflow.keras.optimizers import RMSprop\n",
    "import matplotlib.pyplot as plt\n",
    "import pickle\n",
    "import heapq"
   ]
  },
  {
   "cell_type": "code",
   "execution_count": 3,
   "id": "68b2396b-2fe2-48a7-90c4-2001293fa39e",
   "metadata": {},
   "outputs": [
    {
     "name": "stdout",
     "output_type": "stream",
     "text": [
      "cropus lenght: 581888\n"
     ]
    }
   ],
   "source": [
    "text=open('1661-0.txt',encoding='UTF-8').read().lower()\n",
    "print(\"cropus lenght:\",len(text))"
   ]
  },
  {
   "cell_type": "code",
   "execution_count": 5,
   "id": "8b08255e-afae-4d15-ab85-7e5f2b8b6eaa",
   "metadata": {},
   "outputs": [],
   "source": [
    "tokenizer = RegexpTokenizer(r'\\w+')\n",
    "words = tokenizer.tokenize(text)"
   ]
  },
  {
   "cell_type": "code",
   "execution_count": 6,
   "id": "fe47a614-7e9e-4a53-8c68-fbebd8ed7ff6",
   "metadata": {},
   "outputs": [],
   "source": [
    "unique_words = np.unique(words)\n",
    "unique_words_index = dict((c,i) for i, c in enumerate(unique_words))"
   ]
  },
  {
   "cell_type": "code",
   "execution_count": 7,
   "id": "19042b22-d68e-4d7e-87b2-467b4d87f83a",
   "metadata": {},
   "outputs": [
    {
     "name": "stdout",
     "output_type": "stream",
     "text": [
      "['project', 'gutenberg', 's', 'the', 'adventures']\n",
      "of\n"
     ]
    }
   ],
   "source": [
    "WORD_LENGHT = 5\n",
    "prev_words = []\n",
    "next_words = []\n",
    "for i in range (len(words) - WORD_LENGHT):\n",
    "    prev_words.append(words[i:i + WORD_LENGHT])\n",
    "    next_words.append(words[i + WORD_LENGHT])\n",
    "print(prev_words[0])\n",
    "print(next_words[0])"
   ]
  },
  {
   "cell_type": "code",
   "execution_count": 8,
   "id": "8b6ebe96-b0c0-4dc6-b7c3-5078c0ada3e5",
   "metadata": {},
   "outputs": [],
   "source": [
    "X = np.zeros((len(prev_words), WORD_LENGHT, len(unique_words)), dtype= bool)\n",
    "Y = np.zeros((len(next_words), len(unique_words)), dtype= bool)\n",
    "for i, each_words in enumerate(prev_words):\n",
    "    for j, each_words in enumerate(each_words):\n",
    "        X[i,j, unique_words_index[each_words]]=1\n",
    "    Y[i, unique_words_index[next_words[i]]]=1"
   ]
  },
  {
   "cell_type": "code",
   "execution_count": 9,
   "id": "59cfa1c8-9a38-4a7d-8f50-2e963ef47ef4",
   "metadata": {},
   "outputs": [
    {
     "name": "stdout",
     "output_type": "stream",
     "text": [
      "[False False False ... False False False]\n"
     ]
    }
   ],
   "source": [
    "print(X[0][0])"
   ]
  },
  {
   "cell_type": "code",
   "execution_count": 17,
   "id": "63bdf6e2-fd44-4b5e-8b8d-2e4a0fe75b4b",
   "metadata": {},
   "outputs": [],
   "source": [
    "model = Sequential()\n",
    "model.add(LSTM(128, input_shape=(WORD_LENGHT, len(unique_words))))\n",
    "model.add(Dense(len(unique_words)))\n",
    "model.add(Activation('softmax'))"
   ]
  },
  {
   "cell_type": "code",
   "execution_count": 22,
   "id": "7b84cf5b-fed1-4b33-8777-9212adb9da73",
   "metadata": {},
   "outputs": [
    {
     "name": "stdout",
     "output_type": "stream",
     "text": [
      "Epoch 1/2\n",
      "\u001b[1m811/811\u001b[0m \u001b[32m━━━━━━━━━━━━━━━━━━━━\u001b[0m\u001b[37m\u001b[0m \u001b[1m140s\u001b[0m 170ms/step - accuracy: 0.0576 - loss: 6.6002 - val_accuracy: 0.0850 - val_loss: 6.8780\n",
      "Epoch 2/2\n",
      "\u001b[1m811/811\u001b[0m \u001b[32m━━━━━━━━━━━━━━━━━━━━\u001b[0m\u001b[37m\u001b[0m \u001b[1m143s\u001b[0m 172ms/step - accuracy: 0.1135 - loss: 5.7786 - val_accuracy: 0.0904 - val_loss: 6.8515\n"
     ]
    }
   ],
   "source": [
    "optimizer = RMSprop(learning_rate=0.01)\n",
    "model.compile(loss='categorical_crossentropy',optimizer=optimizer, metrics=['accuracy'])\n",
    "history = model.fit(X, Y, validation_split=0.05, batch_size=128, epochs=2, shuffle=True).history "
   ]
  },
  {
   "cell_type": "code",
   "execution_count": 26,
   "id": "e34cea3b-a261-464e-bff1-39409476bb25",
   "metadata": {},
   "outputs": [
    {
     "name": "stderr",
     "output_type": "stream",
     "text": [
      "WARNING:absl:You are saving your model as an HDF5 file via `model.save()` or `keras.saving.save_model(model)`. This file format is considered legacy. We recommend using instead the native Keras format, e.g. `model.save('my_model.keras')` or `keras.saving.save_model(model, 'my_model.keras')`. \n",
      "WARNING:absl:Compiled the loaded model, but the compiled metrics have yet to be built. `model.compile_metrics` will be empty until you train or evaluate the model.\n"
     ]
    }
   ],
   "source": [
    "model.save('keras_next_word_model.h5')\n",
    "pickle.dump(history, open(\"history.p\", \"wb\"))\n",
    "model =load_model('keras_next_word_model.h5')\n",
    "history = pickle.load(open(\"history.p\", \"rb\"))"
   ]
  },
  {
   "cell_type": "code",
   "execution_count": 31,
   "id": "f1521562-583f-45a1-b0ff-a3fa5d336e31",
   "metadata": {},
   "outputs": [
    {
     "name": "stdout",
     "output_type": "stream",
     "text": [
      "how\n",
      "are\n",
      "you\n"
     ]
    },
    {
     "data": {
      "text/plain": [
       "array([[[0., 0., 0., ..., 0., 0., 0.],\n",
       "        [0., 0., 0., ..., 0., 0., 0.],\n",
       "        [0., 0., 0., ..., 0., 0., 0.],\n",
       "        [0., 0., 0., ..., 0., 0., 0.],\n",
       "        [0., 0., 0., ..., 0., 0., 0.]]])"
      ]
     },
     "execution_count": 31,
     "metadata": {},
     "output_type": "execute_result"
    }
   ],
   "source": [
    "def prepare_input(text):\n",
    "    x = np.zeros((1, WORD_LENGHT, len(unique_words)))\n",
    "    for t, word in enumerate(text.split()):\n",
    "        print(word)\n",
    "        x[0, t, unique_words_index[word]] = 1\n",
    "    return x\n",
    "prepare_input(\"How are you \".lower())"
   ]
  },
  {
   "cell_type": "code",
   "execution_count": 33,
   "id": "42943816-2de8-4f7b-a8df-92c64eae03d1",
   "metadata": {},
   "outputs": [],
   "source": [
    "def sample(preds, top_n=3):\n",
    "    preds = np.asarray(preds).astype('float64')\n",
    "    preds = np.log(preds)\n",
    "    exp_preds = np.exp(preds)\n",
    "    preds = exp_preds / np.sum(exp_preds)\n",
    "\n",
    "    return heapq.nlargest(top_n, range(len(preds)),preds.take)"
   ]
  },
  {
   "cell_type": "code",
   "execution_count": 35,
   "id": "6fc8c3c6-60e2-4b9c-923e-705422a698d5",
   "metadata": {},
   "outputs": [],
   "source": [
    "def predict_completions(text, n=3):\n",
    "    if text ==\"\":\n",
    "        return(\"0\")\n",
    "        x = prepare_input(text)\n",
    "        preds = model.predict(x, verbose=0)[0]\n",
    "        next_indices = sample(preds, n)\n",
    "        return [unique_words[idx] for idx in next_indices]    "
   ]
  },
  {
   "cell_type": "code",
   "execution_count": 37,
   "id": "325a4497-95ad-4be3-a50e-6b3d551392cf",
   "metadata": {},
   "outputs": [
    {
     "name": "stdout",
     "output_type": "stream",
     "text": [
      "correct sentence: Do your work by your own imstead of depending on someone\n",
      "sequence:  do your work by your\n",
      "next possible words:  None\n"
     ]
    }
   ],
   "source": [
    "q = \"Do your work by your own imstead of depending on someone\"\n",
    "print(\"correct sentence:\",q)\n",
    "seq = \" \".join(tokenizer.tokenize(q.lower())[0:5])\n",
    "print(\"sequence: \",seq)\n",
    "print(\"next possible words: \",predict_completions(seq, 5))"
   ]
  },
  {
   "cell_type": "code",
   "execution_count": null,
   "id": "bfea0406-8e19-4d49-9af9-6c835107af9d",
   "metadata": {},
   "outputs": [],
   "source": []
  }
 ],
 "metadata": {
  "kernelspec": {
   "display_name": "Python (myenv)",
   "language": "python",
   "name": "myenv"
  },
  "language_info": {
   "codemirror_mode": {
    "name": "ipython",
    "version": 3
   },
   "file_extension": ".py",
   "mimetype": "text/x-python",
   "name": "python",
   "nbconvert_exporter": "python",
   "pygments_lexer": "ipython3",
   "version": "3.11.8"
  }
 },
 "nbformat": 4,
 "nbformat_minor": 5
}
